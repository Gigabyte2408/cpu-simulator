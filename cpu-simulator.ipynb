{
 "cells": [
  {
   "cell_type": "code",
   "execution_count": null,
   "metadata": {},
   "outputs": [],
   "source": [
    "#Creating the Memory class with methods for storing, loading, printing, and selecting from memory.\n",
    "class Memory:\n",
    "\n",
    "    def __init__(self):\n",
    "        #This is the memory bank that holds all addresses and values in main memory\n",
    "        self.memory_bank = {}\n",
    "        for i in range(0, 256, 4):\n",
    "            self.memory_bank[i] = None\n",
    "        self.cache_is_active = False\n",
    "\n",
    "    def store_into_memory(self, address, data):\n",
    "        self.memory_bank[address] = data\n",
    "        #This stores values into an address in main memory\n",
    "\n",
    "    def load_from_memory(self, address):\n",
    "        return self.memory_bank[address]\n",
    "        #This returns a specified value from a memory address.\n",
    "\n",
    "    def print_memory(self):\n",
    "        for address, data in self.memory_bank.items():\n",
    "            print (f\"{address}:{data}\")\n",
    "\n",
    "    def select_from_available_memory(self):\n",
    "        for i in self.memory_bank:\n",
    "            if self.memory_bank[i] == None:\n",
    "                return i\n",
    "            else:\n",
    "                continue\n",
    "        return (\"No available slots left in memory.\")\n",
    "    \n",
    "    def load_instr_to_memory(self, file):\n",
    "        list_of_instructions = []\n",
    "        with open(file) as instruction_file:\n",
    "            list_of_instructions += instruction_file.readlines()\n",
    "        for instruction in list_of_instructions:\n",
    "            selected_instruction = Instruction(instruction)\n",
    "            self.store_into_memory(self.select_from_available_memory, selected_instruction)"
   ]
  }
 ],
 "metadata": {
  "language_info": {
   "name": "python"
  },
  "orig_nbformat": 4
 },
 "nbformat": 4,
 "nbformat_minor": 2
}
